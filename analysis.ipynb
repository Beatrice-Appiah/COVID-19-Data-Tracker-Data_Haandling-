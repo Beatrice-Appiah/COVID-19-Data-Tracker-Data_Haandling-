{
 "cells": [
  {
   "cell_type": "markdown",
   "id": "03ea5e85",
   "metadata": {},
   "source": [
    "# 1. Imports Libraries & Load Data\n",
    "import pandas as pd\n",
    "import seaborn as sns\n",
    "import matplotlib.pyplot as plt\n",
    "\n",
    "# Load COVID-19 dataset\n",
    "df = pd.read_csv(\"dataset.csv\")\n",
    "\n",
    "# Display basic information\n",
    "print(df.info())\n",
    "print(df.head())\n",
    "\n",
    "# Check missing values\n",
    "print(df.isnull().sum())\n",
    "\n",
    "# Convert date column to datetime format\n",
    "df['date'] = pd.to_datetime(df['date'])\n",
    "\n",
    "\n",
    "# 2. Exploratory Data Analysis\n",
    "# Compute basic statistics\n",
    "print(df.describe())\n",
    "\n",
    "# Calculate death rate\n",
    "df[\"death_rate\"] = df[\"total_deaths\"] / df[\"total_cases\"]\n",
    "\n",
    "# Group by country and compute average cases\n",
    "country_avg_cases = df.groupby(\"location\")[\"total_cases\"].mean().sort_values(ascending=False)\n",
    "print(country_avg_cases.head(10))\n",
    "\n",
    "\n",
    "\n",
    "\n"
   ]
  },
  {
   "cell_type": "code",
   "execution_count": null,
   "id": "d533c7fa-d180-41f6-b27f-d13100f35c86",
   "metadata": {},
   "outputs": [],
   "source": []
  },
  {
   "cell_type": "code",
   "execution_count": null,
   "id": "beb3c2bd-2eb2-467e-a3cc-8aea9e5c9e66",
   "metadata": {},
   "outputs": [],
   "source": []
  },
  {
   "cell_type": "code",
   "execution_count": null,
   "id": "ddab7509-4ddf-4073-bf2d-3ba4ed757885",
   "metadata": {},
   "outputs": [],
   "source": []
  },
  {
   "cell_type": "code",
   "execution_count": null,
   "id": "c4a3c044-3fea-4ab8-b3b8-b785cf4b6106",
   "metadata": {},
   "outputs": [],
   "source": []
  },
  {
   "cell_type": "code",
   "execution_count": null,
   "id": "bcef9b2c-d623-4382-98f7-7a31bec1ac1f",
   "metadata": {},
   "outputs": [],
   "source": []
  },
  {
   "cell_type": "code",
   "execution_count": null,
   "id": "b32e0907-5501-4111-801f-c5b0f399dae0",
   "metadata": {},
   "outputs": [],
   "source": []
  },
  {
   "cell_type": "code",
   "execution_count": null,
   "id": "1aeb4694-c7ea-458b-9593-142dd663420b",
   "metadata": {},
   "outputs": [],
   "source": []
  },
  {
   "cell_type": "code",
   "execution_count": null,
   "id": "5eec43bd-9e00-4cf2-9201-2d780bee2008",
   "metadata": {},
   "outputs": [],
   "source": []
  },
  {
   "cell_type": "code",
   "execution_count": null,
   "id": "188496db-453e-4ce9-a8b6-142a0ddcb329",
   "metadata": {},
   "outputs": [],
   "source": []
  },
  {
   "cell_type": "code",
   "execution_count": null,
   "id": "4579cc3b-b501-43c0-a590-5e159625c84a",
   "metadata": {},
   "outputs": [],
   "source": []
  },
  {
   "cell_type": "code",
   "execution_count": null,
   "id": "f22323e1-7c08-48b1-a756-3cb32fbfc282",
   "metadata": {},
   "outputs": [],
   "source": []
  },
  {
   "cell_type": "code",
   "execution_count": null,
   "id": "d4c94da9-7a1c-4c52-80db-be88cb671868",
   "metadata": {},
   "outputs": [],
   "source": []
  },
  {
   "cell_type": "code",
   "execution_count": null,
   "id": "b491bf09-23e0-46c7-8db7-8bf9338b4e33",
   "metadata": {},
   "outputs": [],
   "source": []
  },
  {
   "cell_type": "code",
   "execution_count": null,
   "id": "41880e5d-bf0a-4590-8aca-841ece338429",
   "metadata": {},
   "outputs": [],
   "source": []
  },
  {
   "cell_type": "code",
   "execution_count": null,
   "id": "da081682-304a-4e5f-b8fe-aac89f5582d8",
   "metadata": {},
   "outputs": [],
   "source": []
  },
  {
   "cell_type": "code",
   "execution_count": null,
   "id": "b9244c76-8a3c-46b2-808e-ce3deee6941f",
   "metadata": {},
   "outputs": [],
   "source": []
  }
 ],
 "metadata": {
  "kernelspec": {
   "display_name": "Python 3 (ipykernel)",
   "language": "python",
   "name": "python3"
  },
  "language_info": {
   "codemirror_mode": {
    "name": "ipython",
    "version": 3
   },
   "file_extension": ".py",
   "mimetype": "text/x-python",
   "name": "python",
   "nbconvert_exporter": "python",
   "pygments_lexer": "ipython3",
   "version": "3.13.0"
  }
 },
 "nbformat": 4,
 "nbformat_minor": 5
}
